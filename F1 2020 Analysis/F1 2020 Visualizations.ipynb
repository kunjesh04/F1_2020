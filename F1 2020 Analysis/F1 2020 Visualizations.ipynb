{
 "cells": [
  {
   "cell_type": "markdown",
   "id": "115e8c48",
   "metadata": {},
   "source": [
    "### Data files : \n",
    "1. Drivers\n",
    "2. Race Results"
   ]
  },
  {
   "cell_type": "code",
   "execution_count": 1,
   "id": "1483aeca",
   "metadata": {},
   "outputs": [],
   "source": [
    "import numpy as np\n",
    "import pandas as pd\n",
    "import datetime\n",
    "from dateutil.relativedelta import relativedelta\n",
    "import matplotlib.pyplot as plt"
   ]
  },
  {
   "cell_type": "code",
   "execution_count": 2,
   "id": "4236ca87",
   "metadata": {},
   "outputs": [],
   "source": [
    "drivers = pd.read_csv('formula1_2020season_drivers.csv')\n",
    "race_results = pd.read_csv('formula1_2020season_raceResults.csv')"
   ]
  },
  {
   "cell_type": "code",
   "execution_count": 3,
   "id": "61b739d8",
   "metadata": {},
   "outputs": [
    {
     "data": {
      "text/plain": [
       "Index(['Driver', 'Abbreviation', 'Number', 'Team', 'Country', 'Podiums',\n",
       "       'Points', 'Grands Prix Entered', 'World Championships',\n",
       "       'Highest Race Finish', 'Highest Grid Position', 'Date of Birth',\n",
       "       'Place of Birth'],\n",
       "      dtype='object')"
      ]
     },
     "execution_count": 3,
     "metadata": {},
     "output_type": "execute_result"
    }
   ],
   "source": [
    "drivers.columns"
   ]
  },
  {
   "cell_type": "code",
   "execution_count": 4,
   "id": "7d3ed295",
   "metadata": {},
   "outputs": [
    {
     "data": {
      "text/plain": [
       "Index(['Track', 'Position', 'No', 'Driver', 'Team', 'Starting Grid', 'Laps',\n",
       "       'Total Time/Gap/Retirement', 'Points', 'Fastest Lap'],\n",
       "      dtype='object')"
      ]
     },
     "execution_count": 4,
     "metadata": {},
     "output_type": "execute_result"
    }
   ],
   "source": [
    "race_results.columns"
   ]
  },
  {
   "cell_type": "code",
   "execution_count": 5,
   "id": "ca4be470",
   "metadata": {},
   "outputs": [],
   "source": [
    "teams = race_results['Team'].unique()\n",
    "points = []"
   ]
  },
  {
   "cell_type": "code",
   "execution_count": 6,
   "id": "3b376d78",
   "metadata": {},
   "outputs": [],
   "source": [
    "constructors = pd.DataFrame()\n",
    "constructors['Team'] = teams"
   ]
  },
  {
   "cell_type": "code",
   "execution_count": 7,
   "id": "602c8bf1",
   "metadata": {},
   "outputs": [
    {
     "data": {
      "text/html": [
       "<div>\n",
       "<style scoped>\n",
       "    .dataframe tbody tr th:only-of-type {\n",
       "        vertical-align: middle;\n",
       "    }\n",
       "\n",
       "    .dataframe tbody tr th {\n",
       "        vertical-align: top;\n",
       "    }\n",
       "\n",
       "    .dataframe thead th {\n",
       "        text-align: right;\n",
       "    }\n",
       "</style>\n",
       "<table border=\"1\" class=\"dataframe\">\n",
       "  <thead>\n",
       "    <tr style=\"text-align: right;\">\n",
       "      <th></th>\n",
       "      <th>Team</th>\n",
       "    </tr>\n",
       "  </thead>\n",
       "  <tbody>\n",
       "    <tr>\n",
       "      <th>0</th>\n",
       "      <td>Mercedes</td>\n",
       "    </tr>\n",
       "    <tr>\n",
       "      <th>1</th>\n",
       "      <td>Ferrari</td>\n",
       "    </tr>\n",
       "    <tr>\n",
       "      <th>2</th>\n",
       "      <td>McLaren Renault</td>\n",
       "    </tr>\n",
       "    <tr>\n",
       "      <th>3</th>\n",
       "      <td>Racing Point BWT Mercedes</td>\n",
       "    </tr>\n",
       "    <tr>\n",
       "      <th>4</th>\n",
       "      <td>AlphaTauri Honda</td>\n",
       "    </tr>\n",
       "    <tr>\n",
       "      <th>5</th>\n",
       "      <td>Renault</td>\n",
       "    </tr>\n",
       "    <tr>\n",
       "      <th>6</th>\n",
       "      <td>Alfa Romeo Racing Ferrari</td>\n",
       "    </tr>\n",
       "    <tr>\n",
       "      <th>7</th>\n",
       "      <td>Williams Mercedes</td>\n",
       "    </tr>\n",
       "    <tr>\n",
       "      <th>8</th>\n",
       "      <td>Red Bull Racing Honda</td>\n",
       "    </tr>\n",
       "    <tr>\n",
       "      <th>9</th>\n",
       "      <td>Haas Ferrari</td>\n",
       "    </tr>\n",
       "  </tbody>\n",
       "</table>\n",
       "</div>"
      ],
      "text/plain": [
       "                        Team\n",
       "0                   Mercedes\n",
       "1                    Ferrari\n",
       "2            McLaren Renault\n",
       "3  Racing Point BWT Mercedes\n",
       "4           AlphaTauri Honda\n",
       "5                    Renault\n",
       "6  Alfa Romeo Racing Ferrari\n",
       "7          Williams Mercedes\n",
       "8      Red Bull Racing Honda\n",
       "9               Haas Ferrari"
      ]
     },
     "execution_count": 7,
     "metadata": {},
     "output_type": "execute_result"
    }
   ],
   "source": [
    "constructors"
   ]
  },
  {
   "cell_type": "code",
   "execution_count": 8,
   "id": "e2c3384d",
   "metadata": {},
   "outputs": [
    {
     "data": {
      "text/plain": [
       "[573, 131, 202, 210, 107, 181, 8, 0, 319, 3]"
      ]
     },
     "execution_count": 8,
     "metadata": {},
     "output_type": "execute_result"
    }
   ],
   "source": [
    "points = []\n",
    "\n",
    "def calculate_points(x):\n",
    "#     filt = race_results\n",
    "    team_points = race_results[race_results['Team'] == x]['Points'].sum()\n",
    "    points.append(team_points)\n",
    "    \n",
    "for team in teams:\n",
    "    calculate_points(team)\n",
    "    \n",
    "points"
   ]
  },
  {
   "cell_type": "code",
   "execution_count": 9,
   "id": "25ce309f",
   "metadata": {},
   "outputs": [],
   "source": [
    "constructors['Points'] = points"
   ]
  },
  {
   "cell_type": "code",
   "execution_count": 10,
   "id": "1ad16cad",
   "metadata": {},
   "outputs": [],
   "source": [
    "constructors.sort_values(by='Points', inplace=True, ascending=False)\n",
    "constructors.reset_index(inplace=True)"
   ]
  },
  {
   "cell_type": "code",
   "execution_count": 11,
   "id": "d08d8de6",
   "metadata": {},
   "outputs": [],
   "source": [
    "constructors.drop(columns=['index'], inplace=True)"
   ]
  },
  {
   "cell_type": "code",
   "execution_count": 12,
   "id": "d894f21a",
   "metadata": {},
   "outputs": [
    {
     "data": {
      "text/html": [
       "<div>\n",
       "<style scoped>\n",
       "    .dataframe tbody tr th:only-of-type {\n",
       "        vertical-align: middle;\n",
       "    }\n",
       "\n",
       "    .dataframe tbody tr th {\n",
       "        vertical-align: top;\n",
       "    }\n",
       "\n",
       "    .dataframe thead th {\n",
       "        text-align: right;\n",
       "    }\n",
       "</style>\n",
       "<table border=\"1\" class=\"dataframe\">\n",
       "  <thead>\n",
       "    <tr style=\"text-align: right;\">\n",
       "      <th></th>\n",
       "      <th>Team</th>\n",
       "      <th>Points</th>\n",
       "    </tr>\n",
       "  </thead>\n",
       "  <tbody>\n",
       "    <tr>\n",
       "      <th>0</th>\n",
       "      <td>Mercedes</td>\n",
       "      <td>573</td>\n",
       "    </tr>\n",
       "    <tr>\n",
       "      <th>1</th>\n",
       "      <td>Red Bull Racing Honda</td>\n",
       "      <td>319</td>\n",
       "    </tr>\n",
       "    <tr>\n",
       "      <th>2</th>\n",
       "      <td>Racing Point BWT Mercedes</td>\n",
       "      <td>210</td>\n",
       "    </tr>\n",
       "    <tr>\n",
       "      <th>3</th>\n",
       "      <td>McLaren Renault</td>\n",
       "      <td>202</td>\n",
       "    </tr>\n",
       "    <tr>\n",
       "      <th>4</th>\n",
       "      <td>Renault</td>\n",
       "      <td>181</td>\n",
       "    </tr>\n",
       "    <tr>\n",
       "      <th>5</th>\n",
       "      <td>Ferrari</td>\n",
       "      <td>131</td>\n",
       "    </tr>\n",
       "    <tr>\n",
       "      <th>6</th>\n",
       "      <td>AlphaTauri Honda</td>\n",
       "      <td>107</td>\n",
       "    </tr>\n",
       "    <tr>\n",
       "      <th>7</th>\n",
       "      <td>Alfa Romeo Racing Ferrari</td>\n",
       "      <td>8</td>\n",
       "    </tr>\n",
       "    <tr>\n",
       "      <th>8</th>\n",
       "      <td>Haas Ferrari</td>\n",
       "      <td>3</td>\n",
       "    </tr>\n",
       "    <tr>\n",
       "      <th>9</th>\n",
       "      <td>Williams Mercedes</td>\n",
       "      <td>0</td>\n",
       "    </tr>\n",
       "  </tbody>\n",
       "</table>\n",
       "</div>"
      ],
      "text/plain": [
       "                        Team  Points\n",
       "0                   Mercedes     573\n",
       "1      Red Bull Racing Honda     319\n",
       "2  Racing Point BWT Mercedes     210\n",
       "3            McLaren Renault     202\n",
       "4                    Renault     181\n",
       "5                    Ferrari     131\n",
       "6           AlphaTauri Honda     107\n",
       "7  Alfa Romeo Racing Ferrari       8\n",
       "8               Haas Ferrari       3\n",
       "9          Williams Mercedes       0"
      ]
     },
     "execution_count": 12,
     "metadata": {},
     "output_type": "execute_result"
    }
   ],
   "source": [
    "constructors"
   ]
  },
  {
   "cell_type": "code",
   "execution_count": 22,
   "id": "b35b4006",
   "metadata": {},
   "outputs": [
    {
     "data": {
      "text/html": [
       "<div>\n",
       "<style scoped>\n",
       "    .dataframe tbody tr th:only-of-type {\n",
       "        vertical-align: middle;\n",
       "    }\n",
       "\n",
       "    .dataframe tbody tr th {\n",
       "        vertical-align: top;\n",
       "    }\n",
       "\n",
       "    .dataframe thead th {\n",
       "        text-align: right;\n",
       "    }\n",
       "</style>\n",
       "<table border=\"1\" class=\"dataframe\">\n",
       "  <thead>\n",
       "    <tr style=\"text-align: right;\">\n",
       "      <th></th>\n",
       "      <th>Team</th>\n",
       "      <th>Points</th>\n",
       "      <th>colors</th>\n",
       "    </tr>\n",
       "  </thead>\n",
       "  <tbody>\n",
       "    <tr>\n",
       "      <th>0</th>\n",
       "      <td>Mercedes</td>\n",
       "      <td>573</td>\n",
       "      <td>#00D2BE</td>\n",
       "    </tr>\n",
       "    <tr>\n",
       "      <th>1</th>\n",
       "      <td>Red Bull Racing Honda</td>\n",
       "      <td>319</td>\n",
       "      <td>#1E41FF</td>\n",
       "    </tr>\n",
       "    <tr>\n",
       "      <th>2</th>\n",
       "      <td>Racing Point BWT Mercedes</td>\n",
       "      <td>210</td>\n",
       "      <td>#F596C8</td>\n",
       "    </tr>\n",
       "    <tr>\n",
       "      <th>3</th>\n",
       "      <td>McLaren Renault</td>\n",
       "      <td>202</td>\n",
       "      <td>#FF8700</td>\n",
       "    </tr>\n",
       "    <tr>\n",
       "      <th>4</th>\n",
       "      <td>Renault</td>\n",
       "      <td>181</td>\n",
       "      <td>#FFF500</td>\n",
       "    </tr>\n",
       "    <tr>\n",
       "      <th>5</th>\n",
       "      <td>Ferrari</td>\n",
       "      <td>131</td>\n",
       "      <td>#C80000</td>\n",
       "    </tr>\n",
       "    <tr>\n",
       "      <th>6</th>\n",
       "      <td>AlphaTauri Honda</td>\n",
       "      <td>107</td>\n",
       "      <td>#FFFFFF</td>\n",
       "    </tr>\n",
       "    <tr>\n",
       "      <th>7</th>\n",
       "      <td>Alfa Romeo Racing Ferrari</td>\n",
       "      <td>8</td>\n",
       "      <td>#9B0000</td>\n",
       "    </tr>\n",
       "    <tr>\n",
       "      <th>8</th>\n",
       "      <td>Haas Ferrari</td>\n",
       "      <td>3</td>\n",
       "      <td>#787878</td>\n",
       "    </tr>\n",
       "    <tr>\n",
       "      <th>9</th>\n",
       "      <td>Williams Mercedes</td>\n",
       "      <td>0</td>\n",
       "      <td>#0082FA</td>\n",
       "    </tr>\n",
       "  </tbody>\n",
       "</table>\n",
       "</div>"
      ],
      "text/plain": [
       "                        Team  Points   colors\n",
       "0                   Mercedes     573  #00D2BE\n",
       "1      Red Bull Racing Honda     319  #1E41FF\n",
       "2  Racing Point BWT Mercedes     210  #F596C8\n",
       "3            McLaren Renault     202  #FF8700\n",
       "4                    Renault     181  #FFF500\n",
       "5                    Ferrari     131  #C80000\n",
       "6           AlphaTauri Honda     107  #FFFFFF\n",
       "7  Alfa Romeo Racing Ferrari       8  #9B0000\n",
       "8               Haas Ferrari       3  #787878\n",
       "9          Williams Mercedes       0  #0082FA"
      ]
     },
     "execution_count": 22,
     "metadata": {},
     "output_type": "execute_result"
    }
   ],
   "source": [
    "teams = race_results['Team'].unique()\n",
    "points = []\n",
    "\n",
    "constructors = pd.DataFrame()\n",
    "constructors['Team'] = teams\n",
    "\n",
    "constructors\n",
    "\n",
    "points = []\n",
    "\n",
    "def calculate_points(x):\n",
    "#     filt = race_results\n",
    "    team_points = race_results[race_results['Team'] == x]['Points'].sum()\n",
    "    points.append(team_points)\n",
    "    \n",
    "for team in teams:\n",
    "    calculate_points(team)\n",
    "    \n",
    "points\n",
    "\n",
    "constructors['Points'] = points\n",
    "\n",
    "constructors.sort_values(by='Points', inplace=True, ascending=False)\n",
    "constructors.reset_index(inplace=True)\n",
    "\n",
    "constructors.drop(columns=['index'], inplace=True)\n",
    "\n",
    "colors = ['#00D2BE', '#1E41FF', '#F596C8', '#FF8700', '#FFF500', '#C80000',\n",
    "         '#FFFFFF', '#9B0000', '#787878', '#0082FA']\n",
    "\n",
    "constructors['colors'] = colors\n",
    "\n",
    "constructors"
   ]
  },
  {
   "cell_type": "code",
   "execution_count": 38,
   "id": "7776fdd7",
   "metadata": {
    "scrolled": false
   },
   "outputs": [
    {
     "data": {
      "image/png": "[encoded data removed]",
      "text/plain": [
       "<Figure size 1000x600 with 1 Axes>"
      ]
     },
     "metadata": {},
     "output_type": "display_data"
    }
   ],
   "source": [
    "plt.figure(figsize=(10, 6))\n",
    "bars = plt.barh(constructors['Team'], constructors['Points'], \n",
    "         color=constructors['colors'])\n",
    "\n",
    "plt.title('Constructors Standings in 2020')\n",
    "plt.xlabel('Points', fontsize=16)\n",
    "plt.ylabel('Team', fontsize=16)\n",
    "\n",
    "plt.yticks(fontsize=16)\n",
    "plt.xticks(fontsize=16)\n",
    "\n",
    "plt.gca().invert_yaxis()\n",
    "# setting bg color to a black shade\n",
    "plt.gca().set_facecolor('#1c1c1c')\n",
    "\n",
    "for bar in bars:\n",
    "    plt.text(bar.get_width(), bar.get_y() + bar.get_height() / 2, \n",
    "             bar.get_width(), ha='left', va='center', \n",
    "             color = bar.get_facecolor(), fontsize=14)\n",
    "\n",
    "plt.show()\n"
   ]
  },
  {
   "cell_type": "code",
   "execution_count": null,
   "id": "b58f9101",
   "metadata": {},
   "outputs": [],
   "source": []
  }
 ],
 "metadata": {
  "kernelspec": {
   "display_name": "Python 3 (ipykernel)",
   "language": "python",
   "name": "python3"
  },
  "language_info": {
   "codemirror_mode": {
    "name": "ipython",
    "version": 3
   },
   "file_extension": ".py",
   "mimetype": "text/x-python",
   "name": "python",
   "nbconvert_exporter": "python",
   "pygments_lexer": "ipython3",
   "version": "3.10.5"
  }
 },
 "nbformat": 4,
 "nbformat_minor": 5
}
