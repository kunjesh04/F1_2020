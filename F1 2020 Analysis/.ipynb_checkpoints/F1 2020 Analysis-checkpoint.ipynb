{
 "cells": [
  {
   "cell_type": "markdown",
   "id": "b6beeeba",
   "metadata": {},
   "source": [
    "# Formula1 Analysis - Season 2020"
   ]
  },
  {
   "cell_type": "markdown",
   "id": "115e8c48",
   "metadata": {},
   "source": [
    "### Data files : \n",
    "1. Drivers\n",
    "2. Race Results"
   ]
  },
  {
   "cell_type": "code",
   "execution_count": 4,
   "id": "1483aeca",
   "metadata": {},
   "outputs": [],
   "source": [
    "import numpy as np\n",
    "import pandas as pd\n",
    "import datetime\n",
    "from dateutil.relativedelta import relativedelta\n",
    "import matplotlib.pyplot as plt"
   ]
  },
  {
   "cell_type": "code",
   "execution_count": 5,
   "id": "4236ca87",
   "metadata": {},
   "outputs": [],
   "source": [
    "drivers = pd.read_csv('formula1_2020season_drivers.csv')\n",
    "race_results = pd.read_csv('formula1_2020season_raceResults.csv')"
   ]
  },
  {
   "cell_type": "code",
   "execution_count": 6,
   "id": "857386e7",
   "metadata": {
    "scrolled": true
   },
   "outputs": [
    {
     "data": {
      "text/plain": [
       "Index(['Driver', 'Abbreviation', 'Number', 'Team', 'Country', 'Podiums',\n",
       "       'Points', 'Grands Prix Entered', 'World Championships',\n",
       "       'Highest Race Finish', 'Highest Grid Position', 'Date of Birth',\n",
       "       'Place of Birth'],\n",
       "      dtype='object')"
      ]
     },
     "execution_count": 6,
     "metadata": {},
     "output_type": "execute_result"
    }
   ],
   "source": [
    "drivers.columns"
   ]
  },
  {
   "cell_type": "code",
   "execution_count": 7,
   "id": "fbc15467",
   "metadata": {},
   "outputs": [
    {
     "data": {
      "text/plain": [
       "Index(['Track', 'Position', 'No', 'Driver', 'Team', 'Starting Grid', 'Laps',\n",
       "       'Total Time/Gap/Retirement', 'Points', 'Fastest Lap'],\n",
       "      dtype='object')"
      ]
     },
     "execution_count": 7,
     "metadata": {},
     "output_type": "execute_result"
    }
   ],
   "source": [
    "race_results.columns"
   ]
  },
  {
   "cell_type": "code",
   "execution_count": 8,
   "id": "cf97d873",
   "metadata": {},
   "outputs": [
    {
     "data": {
      "text/html": [
       "<div>\n",
       "<style scoped>\n",
       "    .dataframe tbody tr th:only-of-type {\n",
       "        vertical-align: middle;\n",
       "    }\n",
       "\n",
       "    .dataframe tbody tr th {\n",
       "        vertical-align: top;\n",
       "    }\n",
       "\n",
       "    .dataframe thead th {\n",
       "        text-align: right;\n",
       "    }\n",
       "</style>\n",
       "<table border=\"1\" class=\"dataframe\">\n",
       "  <thead>\n",
       "    <tr style=\"text-align: right;\">\n",
       "      <th></th>\n",
       "      <th>Driver</th>\n",
       "      <th>Abbreviation</th>\n",
       "      <th>Number</th>\n",
       "      <th>Team</th>\n",
       "      <th>Country</th>\n",
       "      <th>Podiums</th>\n",
       "      <th>Points</th>\n",
       "      <th>Grands Prix Entered</th>\n",
       "      <th>World Championships</th>\n",
       "      <th>Highest Race Finish</th>\n",
       "      <th>Highest Grid Position</th>\n",
       "      <th>Date of Birth</th>\n",
       "      <th>Place of Birth</th>\n",
       "    </tr>\n",
       "  </thead>\n",
       "  <tbody>\n",
       "    <tr>\n",
       "      <th>0</th>\n",
       "      <td>Lewis Hamilton</td>\n",
       "      <td>HAM</td>\n",
       "      <td>44</td>\n",
       "      <td>Mercedes</td>\n",
       "      <td>United Kingdom</td>\n",
       "      <td>165</td>\n",
       "      <td>3778</td>\n",
       "      <td>266</td>\n",
       "      <td>7</td>\n",
       "      <td>1(x95)</td>\n",
       "      <td>1</td>\n",
       "      <td>07/01/1985</td>\n",
       "      <td>Stevenage, England</td>\n",
       "    </tr>\n",
       "    <tr>\n",
       "      <th>1</th>\n",
       "      <td>Valtteri Bottas</td>\n",
       "      <td>BOT</td>\n",
       "      <td>77</td>\n",
       "      <td>Mercedes</td>\n",
       "      <td>Finland</td>\n",
       "      <td>56</td>\n",
       "      <td>1512</td>\n",
       "      <td>157</td>\n",
       "      <td>0</td>\n",
       "      <td>1(x9)</td>\n",
       "      <td>1</td>\n",
       "      <td>28/08/1989</td>\n",
       "      <td>Nastola, Finland</td>\n",
       "    </tr>\n",
       "    <tr>\n",
       "      <th>2</th>\n",
       "      <td>Max Verstappen</td>\n",
       "      <td>VER</td>\n",
       "      <td>33</td>\n",
       "      <td>Red Bull Racing</td>\n",
       "      <td>Netherlands</td>\n",
       "      <td>42</td>\n",
       "      <td>1162</td>\n",
       "      <td>119</td>\n",
       "      <td>0</td>\n",
       "      <td>1(x10)</td>\n",
       "      <td>1</td>\n",
       "      <td>30/09/1997</td>\n",
       "      <td>Hasselt, Belgium</td>\n",
       "    </tr>\n",
       "    <tr>\n",
       "      <th>3</th>\n",
       "      <td>Sergio Perez</td>\n",
       "      <td>PER</td>\n",
       "      <td>11</td>\n",
       "      <td>Racing Point</td>\n",
       "      <td>Mexico</td>\n",
       "      <td>10</td>\n",
       "      <td>706</td>\n",
       "      <td>193</td>\n",
       "      <td>0</td>\n",
       "      <td>1(x1)</td>\n",
       "      <td>3</td>\n",
       "      <td>26/01/1990</td>\n",
       "      <td>Guadalajara, Mexico</td>\n",
       "    </tr>\n",
       "    <tr>\n",
       "      <th>4</th>\n",
       "      <td>Daniel Ricciardo</td>\n",
       "      <td>RIC</td>\n",
       "      <td>3</td>\n",
       "      <td>Renault</td>\n",
       "      <td>Australia</td>\n",
       "      <td>31</td>\n",
       "      <td>1159</td>\n",
       "      <td>188</td>\n",
       "      <td>0</td>\n",
       "      <td>1(x7)</td>\n",
       "      <td>1</td>\n",
       "      <td>01/07/1989</td>\n",
       "      <td>Perth, Australia</td>\n",
       "    </tr>\n",
       "  </tbody>\n",
       "</table>\n",
       "</div>"
      ],
      "text/plain": [
       "             Driver Abbreviation  Number             Team         Country   \n",
       "0    Lewis Hamilton          HAM      44         Mercedes  United Kingdom  \\\n",
       "1   Valtteri Bottas          BOT      77         Mercedes         Finland   \n",
       "2    Max Verstappen          VER      33  Red Bull Racing     Netherlands   \n",
       "3      Sergio Perez          PER      11     Racing Point          Mexico   \n",
       "4  Daniel Ricciardo          RIC       3          Renault       Australia   \n",
       "\n",
       "   Podiums  Points  Grands Prix Entered  World Championships   \n",
       "0      165    3778                  266                    7  \\\n",
       "1       56    1512                  157                    0   \n",
       "2       42    1162                  119                    0   \n",
       "3       10     706                  193                    0   \n",
       "4       31    1159                  188                    0   \n",
       "\n",
       "  Highest Race Finish  Highest Grid Position Date of Birth   \n",
       "0              1(x95)                      1    07/01/1985  \\\n",
       "1               1(x9)                      1    28/08/1989   \n",
       "2              1(x10)                      1    30/09/1997   \n",
       "3               1(x1)                      3    26/01/1990   \n",
       "4               1(x7)                      1    01/07/1989   \n",
       "\n",
       "        Place of Birth  \n",
       "0   Stevenage, England  \n",
       "1     Nastola, Finland  \n",
       "2     Hasselt, Belgium  \n",
       "3  Guadalajara, Mexico  \n",
       "4     Perth, Australia  "
      ]
     },
     "execution_count": 8,
     "metadata": {},
     "output_type": "execute_result"
    }
   ],
   "source": [
    "drivers.head()"
   ]
  },
  {
   "cell_type": "code",
   "execution_count": 9,
   "id": "c8b95b6e",
   "metadata": {},
   "outputs": [
    {
     "data": {
      "text/html": [
       "<div>\n",
       "<style scoped>\n",
       "    .dataframe tbody tr th:only-of-type {\n",
       "        vertical-align: middle;\n",
       "    }\n",
       "\n",
       "    .dataframe tbody tr th {\n",
       "        vertical-align: top;\n",
       "    }\n",
       "\n",
       "    .dataframe thead th {\n",
       "        text-align: right;\n",
       "    }\n",
       "</style>\n",
       "<table border=\"1\" class=\"dataframe\">\n",
       "  <thead>\n",
       "    <tr style=\"text-align: right;\">\n",
       "      <th></th>\n",
       "      <th>Track</th>\n",
       "      <th>Position</th>\n",
       "      <th>No</th>\n",
       "      <th>Driver</th>\n",
       "      <th>Team</th>\n",
       "      <th>Starting Grid</th>\n",
       "      <th>Laps</th>\n",
       "      <th>Total Time/Gap/Retirement</th>\n",
       "      <th>Points</th>\n",
       "      <th>Fastest Lap</th>\n",
       "    </tr>\n",
       "  </thead>\n",
       "  <tbody>\n",
       "    <tr>\n",
       "      <th>0</th>\n",
       "      <td>Austria</td>\n",
       "      <td>1</td>\n",
       "      <td>77</td>\n",
       "      <td>Valtteri Bottas</td>\n",
       "      <td>Mercedes</td>\n",
       "      <td>1</td>\n",
       "      <td>71</td>\n",
       "      <td>1:30:55.739</td>\n",
       "      <td>25</td>\n",
       "      <td>No</td>\n",
       "    </tr>\n",
       "    <tr>\n",
       "      <th>1</th>\n",
       "      <td>Austria</td>\n",
       "      <td>2</td>\n",
       "      <td>16</td>\n",
       "      <td>Charles Leclerc</td>\n",
       "      <td>Ferrari</td>\n",
       "      <td>7</td>\n",
       "      <td>71</td>\n",
       "      <td>+2.700</td>\n",
       "      <td>18</td>\n",
       "      <td>No</td>\n",
       "    </tr>\n",
       "    <tr>\n",
       "      <th>2</th>\n",
       "      <td>Austria</td>\n",
       "      <td>3</td>\n",
       "      <td>4</td>\n",
       "      <td>Lando Norris</td>\n",
       "      <td>McLaren Renault</td>\n",
       "      <td>3</td>\n",
       "      <td>71</td>\n",
       "      <td>+5.491</td>\n",
       "      <td>16</td>\n",
       "      <td>Yes</td>\n",
       "    </tr>\n",
       "    <tr>\n",
       "      <th>3</th>\n",
       "      <td>Austria</td>\n",
       "      <td>4</td>\n",
       "      <td>44</td>\n",
       "      <td>Lewis Hamilton</td>\n",
       "      <td>Mercedes</td>\n",
       "      <td>5</td>\n",
       "      <td>71</td>\n",
       "      <td>+5.689</td>\n",
       "      <td>12</td>\n",
       "      <td>No</td>\n",
       "    </tr>\n",
       "    <tr>\n",
       "      <th>4</th>\n",
       "      <td>Austria</td>\n",
       "      <td>5</td>\n",
       "      <td>55</td>\n",
       "      <td>Carlos Sainz</td>\n",
       "      <td>McLaren Renault</td>\n",
       "      <td>8</td>\n",
       "      <td>71</td>\n",
       "      <td>+8.903</td>\n",
       "      <td>10</td>\n",
       "      <td>No</td>\n",
       "    </tr>\n",
       "  </tbody>\n",
       "</table>\n",
       "</div>"
      ],
      "text/plain": [
       "     Track Position  No           Driver             Team  Starting Grid   \n",
       "0  Austria        1  77  Valtteri Bottas         Mercedes              1  \\\n",
       "1  Austria        2  16  Charles Leclerc          Ferrari              7   \n",
       "2  Austria        3   4     Lando Norris  McLaren Renault              3   \n",
       "3  Austria        4  44   Lewis Hamilton         Mercedes              5   \n",
       "4  Austria        5  55     Carlos Sainz  McLaren Renault              8   \n",
       "\n",
       "   Laps Total Time/Gap/Retirement  Points Fastest Lap  \n",
       "0    71               1:30:55.739      25          No  \n",
       "1    71                    +2.700      18          No  \n",
       "2    71                    +5.491      16         Yes  \n",
       "3    71                    +5.689      12          No  \n",
       "4    71                    +8.903      10          No  "
      ]
     },
     "execution_count": 9,
     "metadata": {},
     "output_type": "execute_result"
    }
   ],
   "source": [
    "race_results.head()"
   ]
  },
  {
   "cell_type": "markdown",
   "id": "bc073262",
   "metadata": {},
   "source": [
    "### 1. How many drivers are included in the 'Drivers' dataset?\n"
   ]
  },
  {
   "cell_type": "code",
   "execution_count": 10,
   "id": "d071bb0d",
   "metadata": {},
   "outputs": [
    {
     "data": {
      "text/plain": [
       "23"
      ]
     },
     "execution_count": 10,
     "metadata": {},
     "output_type": "execute_result"
    }
   ],
   "source": [
    "drivers['Driver'].count()"
   ]
  },
  {
   "cell_type": "markdown",
   "id": "b3045789",
   "metadata": {},
   "source": [
    "### 2. Which driver has the highest number of podium finishes?"
   ]
  },
  {
   "cell_type": "code",
   "execution_count": 11,
   "id": "08aa7d66",
   "metadata": {},
   "outputs": [
    {
     "data": {
      "text/plain": [
       "0    Lewis Hamilton\n",
       "Name: Driver, dtype: object"
      ]
     },
     "execution_count": 11,
     "metadata": {},
     "output_type": "execute_result"
    }
   ],
   "source": [
    "highest_podiums = drivers.loc[drivers['Podiums'] == drivers['Podiums'].max()]\n",
    "highest_podiums['Driver']"
   ]
  },
  {
   "cell_type": "markdown",
   "id": "30e57199",
   "metadata": {},
   "source": [
    "### 3. What is the average number of points scored by the drivers?\n"
   ]
  },
  {
   "cell_type": "code",
   "execution_count": 12,
   "id": "07b5fc73",
   "metadata": {},
   "outputs": [
    {
     "data": {
      "text/plain": [
       "5.1"
      ]
     },
     "execution_count": 12,
     "metadata": {},
     "output_type": "execute_result"
    }
   ],
   "source": [
    "race_results['Points'].mean()"
   ]
  },
  {
   "cell_type": "markdown",
   "id": "1183d673",
   "metadata": {},
   "source": [
    "### 4. Which driver has the most world championships?\n"
   ]
  },
  {
   "cell_type": "code",
   "execution_count": 13,
   "id": "7190db69",
   "metadata": {},
   "outputs": [
    {
     "data": {
      "text/plain": [
       "0    Lewis Hamilton\n",
       "Name: Driver, dtype: object"
      ]
     },
     "execution_count": 13,
     "metadata": {},
     "output_type": "execute_result"
    }
   ],
   "source": [
    "drivers['Driver'].loc[drivers['World Championships'] == drivers['World Championships'].max()]"
   ]
  },
  {
   "cell_type": "markdown",
   "id": "ef58f727",
   "metadata": {},
   "source": [
    "### 5. How many drivers have entered more than 10 Grands Prix?"
   ]
  },
  {
   "cell_type": "code",
   "execution_count": 14,
   "id": "3654666b",
   "metadata": {},
   "outputs": [
    {
     "data": {
      "text/plain": [
       "21"
      ]
     },
     "execution_count": 14,
     "metadata": {},
     "output_type": "execute_result"
    }
   ],
   "source": [
    "drivers['Driver'].loc[drivers['Grands Prix Entered'] > 10].count()"
   ]
  },
  {
   "cell_type": "markdown",
   "id": "9c8064e1",
   "metadata": {},
   "source": [
    "### 6. Which driver has the highest race finish recorded (in 2020)?\n"
   ]
  },
  {
   "cell_type": "code",
   "execution_count": 15,
   "id": "b8869f2d",
   "metadata": {},
   "outputs": [
    {
     "data": {
      "text/html": [
       "<div>\n",
       "<style scoped>\n",
       "    .dataframe tbody tr th:only-of-type {\n",
       "        vertical-align: middle;\n",
       "    }\n",
       "\n",
       "    .dataframe tbody tr th {\n",
       "        vertical-align: top;\n",
       "    }\n",
       "\n",
       "    .dataframe thead th {\n",
       "        text-align: right;\n",
       "    }\n",
       "</style>\n",
       "<table border=\"1\" class=\"dataframe\">\n",
       "  <thead>\n",
       "    <tr style=\"text-align: right;\">\n",
       "      <th></th>\n",
       "      <th>Track</th>\n",
       "      <th>Position</th>\n",
       "      <th>No</th>\n",
       "      <th>Driver</th>\n",
       "      <th>Team_x</th>\n",
       "      <th>Starting Grid</th>\n",
       "      <th>Laps</th>\n",
       "      <th>Total Time/Gap/Retirement</th>\n",
       "      <th>Points_x</th>\n",
       "      <th>Fastest Lap</th>\n",
       "      <th>...</th>\n",
       "      <th>Team_y</th>\n",
       "      <th>Country</th>\n",
       "      <th>Podiums</th>\n",
       "      <th>Points_y</th>\n",
       "      <th>Grands Prix Entered</th>\n",
       "      <th>World Championships</th>\n",
       "      <th>Highest Race Finish</th>\n",
       "      <th>Highest Grid Position</th>\n",
       "      <th>Date of Birth</th>\n",
       "      <th>Place of Birth</th>\n",
       "    </tr>\n",
       "  </thead>\n",
       "  <tbody>\n",
       "    <tr>\n",
       "      <th>52</th>\n",
       "      <td>Styria</td>\n",
       "      <td>1</td>\n",
       "      <td>44</td>\n",
       "      <td>Lewis Hamilton</td>\n",
       "      <td>Mercedes</td>\n",
       "      <td>1</td>\n",
       "      <td>71</td>\n",
       "      <td>1:22:50.683</td>\n",
       "      <td>25</td>\n",
       "      <td>No</td>\n",
       "      <td>...</td>\n",
       "      <td>Mercedes</td>\n",
       "      <td>United Kingdom</td>\n",
       "      <td>165</td>\n",
       "      <td>3778</td>\n",
       "      <td>266</td>\n",
       "      <td>7</td>\n",
       "      <td>1(x95)</td>\n",
       "      <td>1</td>\n",
       "      <td>07/01/1985</td>\n",
       "      <td>Stevenage, England</td>\n",
       "    </tr>\n",
       "    <tr>\n",
       "      <th>53</th>\n",
       "      <td>Hungary</td>\n",
       "      <td>1</td>\n",
       "      <td>44</td>\n",
       "      <td>Lewis Hamilton</td>\n",
       "      <td>Mercedes</td>\n",
       "      <td>1</td>\n",
       "      <td>70</td>\n",
       "      <td>1:36:12.473</td>\n",
       "      <td>26</td>\n",
       "      <td>Yes</td>\n",
       "      <td>...</td>\n",
       "      <td>Mercedes</td>\n",
       "      <td>United Kingdom</td>\n",
       "      <td>165</td>\n",
       "      <td>3778</td>\n",
       "      <td>266</td>\n",
       "      <td>7</td>\n",
       "      <td>1(x95)</td>\n",
       "      <td>1</td>\n",
       "      <td>07/01/1985</td>\n",
       "      <td>Stevenage, England</td>\n",
       "    </tr>\n",
       "    <tr>\n",
       "      <th>54</th>\n",
       "      <td>Great Britain</td>\n",
       "      <td>1</td>\n",
       "      <td>44</td>\n",
       "      <td>Lewis Hamilton</td>\n",
       "      <td>Mercedes</td>\n",
       "      <td>1</td>\n",
       "      <td>52</td>\n",
       "      <td>1:28:01.283</td>\n",
       "      <td>25</td>\n",
       "      <td>No</td>\n",
       "      <td>...</td>\n",
       "      <td>Mercedes</td>\n",
       "      <td>United Kingdom</td>\n",
       "      <td>165</td>\n",
       "      <td>3778</td>\n",
       "      <td>266</td>\n",
       "      <td>7</td>\n",
       "      <td>1(x95)</td>\n",
       "      <td>1</td>\n",
       "      <td>07/01/1985</td>\n",
       "      <td>Stevenage, England</td>\n",
       "    </tr>\n",
       "    <tr>\n",
       "      <th>56</th>\n",
       "      <td>Spain</td>\n",
       "      <td>1</td>\n",
       "      <td>44</td>\n",
       "      <td>Lewis Hamilton</td>\n",
       "      <td>Mercedes</td>\n",
       "      <td>1</td>\n",
       "      <td>66</td>\n",
       "      <td>1:31:45.279</td>\n",
       "      <td>25</td>\n",
       "      <td>No</td>\n",
       "      <td>...</td>\n",
       "      <td>Mercedes</td>\n",
       "      <td>United Kingdom</td>\n",
       "      <td>165</td>\n",
       "      <td>3778</td>\n",
       "      <td>266</td>\n",
       "      <td>7</td>\n",
       "      <td>1(x95)</td>\n",
       "      <td>1</td>\n",
       "      <td>07/01/1985</td>\n",
       "      <td>Stevenage, England</td>\n",
       "    </tr>\n",
       "    <tr>\n",
       "      <th>57</th>\n",
       "      <td>Belgium</td>\n",
       "      <td>1</td>\n",
       "      <td>44</td>\n",
       "      <td>Lewis Hamilton</td>\n",
       "      <td>Mercedes</td>\n",
       "      <td>1</td>\n",
       "      <td>44</td>\n",
       "      <td>1:24:08.761</td>\n",
       "      <td>25</td>\n",
       "      <td>No</td>\n",
       "      <td>...</td>\n",
       "      <td>Mercedes</td>\n",
       "      <td>United Kingdom</td>\n",
       "      <td>165</td>\n",
       "      <td>3778</td>\n",
       "      <td>266</td>\n",
       "      <td>7</td>\n",
       "      <td>1(x95)</td>\n",
       "      <td>1</td>\n",
       "      <td>07/01/1985</td>\n",
       "      <td>Stevenage, England</td>\n",
       "    </tr>\n",
       "    <tr>\n",
       "      <th>59</th>\n",
       "      <td>Tuscany</td>\n",
       "      <td>1</td>\n",
       "      <td>44</td>\n",
       "      <td>Lewis Hamilton</td>\n",
       "      <td>Mercedes</td>\n",
       "      <td>1</td>\n",
       "      <td>59</td>\n",
       "      <td>2:19:35.060</td>\n",
       "      <td>26</td>\n",
       "      <td>Yes</td>\n",
       "      <td>...</td>\n",
       "      <td>Mercedes</td>\n",
       "      <td>United Kingdom</td>\n",
       "      <td>165</td>\n",
       "      <td>3778</td>\n",
       "      <td>266</td>\n",
       "      <td>7</td>\n",
       "      <td>1(x95)</td>\n",
       "      <td>1</td>\n",
       "      <td>07/01/1985</td>\n",
       "      <td>Stevenage, England</td>\n",
       "    </tr>\n",
       "    <tr>\n",
       "      <th>61</th>\n",
       "      <td>Eifel</td>\n",
       "      <td>1</td>\n",
       "      <td>44</td>\n",
       "      <td>Lewis Hamilton</td>\n",
       "      <td>Mercedes</td>\n",
       "      <td>2</td>\n",
       "      <td>60</td>\n",
       "      <td>1:35:49.641</td>\n",
       "      <td>25</td>\n",
       "      <td>No</td>\n",
       "      <td>...</td>\n",
       "      <td>Mercedes</td>\n",
       "      <td>United Kingdom</td>\n",
       "      <td>165</td>\n",
       "      <td>3778</td>\n",
       "      <td>266</td>\n",
       "      <td>7</td>\n",
       "      <td>1(x95)</td>\n",
       "      <td>1</td>\n",
       "      <td>07/01/1985</td>\n",
       "      <td>Stevenage, England</td>\n",
       "    </tr>\n",
       "    <tr>\n",
       "      <th>62</th>\n",
       "      <td>Portugal</td>\n",
       "      <td>1</td>\n",
       "      <td>44</td>\n",
       "      <td>Lewis Hamilton</td>\n",
       "      <td>Mercedes</td>\n",
       "      <td>1</td>\n",
       "      <td>66</td>\n",
       "      <td>1:29:56.828</td>\n",
       "      <td>26</td>\n",
       "      <td>Yes</td>\n",
       "      <td>...</td>\n",
       "      <td>Mercedes</td>\n",
       "      <td>United Kingdom</td>\n",
       "      <td>165</td>\n",
       "      <td>3778</td>\n",
       "      <td>266</td>\n",
       "      <td>7</td>\n",
       "      <td>1(x95)</td>\n",
       "      <td>1</td>\n",
       "      <td>07/01/1985</td>\n",
       "      <td>Stevenage, England</td>\n",
       "    </tr>\n",
       "    <tr>\n",
       "      <th>63</th>\n",
       "      <td>Emilia Romagna</td>\n",
       "      <td>1</td>\n",
       "      <td>44</td>\n",
       "      <td>Lewis Hamilton</td>\n",
       "      <td>Mercedes</td>\n",
       "      <td>2</td>\n",
       "      <td>63</td>\n",
       "      <td>1:28:32.430</td>\n",
       "      <td>26</td>\n",
       "      <td>Yes</td>\n",
       "      <td>...</td>\n",
       "      <td>Mercedes</td>\n",
       "      <td>United Kingdom</td>\n",
       "      <td>165</td>\n",
       "      <td>3778</td>\n",
       "      <td>266</td>\n",
       "      <td>7</td>\n",
       "      <td>1(x95)</td>\n",
       "      <td>1</td>\n",
       "      <td>07/01/1985</td>\n",
       "      <td>Stevenage, England</td>\n",
       "    </tr>\n",
       "    <tr>\n",
       "      <th>64</th>\n",
       "      <td>Turkey</td>\n",
       "      <td>1</td>\n",
       "      <td>44</td>\n",
       "      <td>Lewis Hamilton</td>\n",
       "      <td>Mercedes</td>\n",
       "      <td>6</td>\n",
       "      <td>58</td>\n",
       "      <td>1:42:19.313</td>\n",
       "      <td>25</td>\n",
       "      <td>No</td>\n",
       "      <td>...</td>\n",
       "      <td>Mercedes</td>\n",
       "      <td>United Kingdom</td>\n",
       "      <td>165</td>\n",
       "      <td>3778</td>\n",
       "      <td>266</td>\n",
       "      <td>7</td>\n",
       "      <td>1(x95)</td>\n",
       "      <td>1</td>\n",
       "      <td>07/01/1985</td>\n",
       "      <td>Stevenage, England</td>\n",
       "    </tr>\n",
       "    <tr>\n",
       "      <th>65</th>\n",
       "      <td>Bahrain</td>\n",
       "      <td>1</td>\n",
       "      <td>44</td>\n",
       "      <td>Lewis Hamilton</td>\n",
       "      <td>Mercedes</td>\n",
       "      <td>1</td>\n",
       "      <td>57</td>\n",
       "      <td>2:59:47.515</td>\n",
       "      <td>25</td>\n",
       "      <td>No</td>\n",
       "      <td>...</td>\n",
       "      <td>Mercedes</td>\n",
       "      <td>United Kingdom</td>\n",
       "      <td>165</td>\n",
       "      <td>3778</td>\n",
       "      <td>266</td>\n",
       "      <td>7</td>\n",
       "      <td>1(x95)</td>\n",
       "      <td>1</td>\n",
       "      <td>07/01/1985</td>\n",
       "      <td>Stevenage, England</td>\n",
       "    </tr>\n",
       "  </tbody>\n",
       "</table>\n",
       "<p>11 rows × 22 columns</p>\n",
       "</div>"
      ],
      "text/plain": [
       "             Track Position  No          Driver    Team_x  Starting Grid   \n",
       "52          Styria        1  44  Lewis Hamilton  Mercedes              1  \\\n",
       "53         Hungary        1  44  Lewis Hamilton  Mercedes              1   \n",
       "54   Great Britain        1  44  Lewis Hamilton  Mercedes              1   \n",
       "56           Spain        1  44  Lewis Hamilton  Mercedes              1   \n",
       "57         Belgium        1  44  Lewis Hamilton  Mercedes              1   \n",
       "59         Tuscany        1  44  Lewis Hamilton  Mercedes              1   \n",
       "61           Eifel        1  44  Lewis Hamilton  Mercedes              2   \n",
       "62        Portugal        1  44  Lewis Hamilton  Mercedes              1   \n",
       "63  Emilia Romagna        1  44  Lewis Hamilton  Mercedes              2   \n",
       "64          Turkey        1  44  Lewis Hamilton  Mercedes              6   \n",
       "65         Bahrain        1  44  Lewis Hamilton  Mercedes              1   \n",
       "\n",
       "    Laps Total Time/Gap/Retirement  Points_x Fastest Lap  ...    Team_y   \n",
       "52    71               1:22:50.683        25          No  ...  Mercedes  \\\n",
       "53    70               1:36:12.473        26         Yes  ...  Mercedes   \n",
       "54    52               1:28:01.283        25          No  ...  Mercedes   \n",
       "56    66               1:31:45.279        25          No  ...  Mercedes   \n",
       "57    44               1:24:08.761        25          No  ...  Mercedes   \n",
       "59    59               2:19:35.060        26         Yes  ...  Mercedes   \n",
       "61    60               1:35:49.641        25          No  ...  Mercedes   \n",
       "62    66               1:29:56.828        26         Yes  ...  Mercedes   \n",
       "63    63               1:28:32.430        26         Yes  ...  Mercedes   \n",
       "64    58               1:42:19.313        25          No  ...  Mercedes   \n",
       "65    57               2:59:47.515        25          No  ...  Mercedes   \n",
       "\n",
       "           Country Podiums Points_y  Grands Prix Entered  World Championships   \n",
       "52  United Kingdom     165     3778                  266                    7  \\\n",
       "53  United Kingdom     165     3778                  266                    7   \n",
       "54  United Kingdom     165     3778                  266                    7   \n",
       "56  United Kingdom     165     3778                  266                    7   \n",
       "57  United Kingdom     165     3778                  266                    7   \n",
       "59  United Kingdom     165     3778                  266                    7   \n",
       "61  United Kingdom     165     3778                  266                    7   \n",
       "62  United Kingdom     165     3778                  266                    7   \n",
       "63  United Kingdom     165     3778                  266                    7   \n",
       "64  United Kingdom     165     3778                  266                    7   \n",
       "65  United Kingdom     165     3778                  266                    7   \n",
       "\n",
       "    Highest Race Finish  Highest Grid Position Date of Birth   \n",
       "52               1(x95)                      1    07/01/1985  \\\n",
       "53               1(x95)                      1    07/01/1985   \n",
       "54               1(x95)                      1    07/01/1985   \n",
       "56               1(x95)                      1    07/01/1985   \n",
       "57               1(x95)                      1    07/01/1985   \n",
       "59               1(x95)                      1    07/01/1985   \n",
       "61               1(x95)                      1    07/01/1985   \n",
       "62               1(x95)                      1    07/01/1985   \n",
       "63               1(x95)                      1    07/01/1985   \n",
       "64               1(x95)                      1    07/01/1985   \n",
       "65               1(x95)                      1    07/01/1985   \n",
       "\n",
       "        Place of Birth  \n",
       "52  Stevenage, England  \n",
       "53  Stevenage, England  \n",
       "54  Stevenage, England  \n",
       "56  Stevenage, England  \n",
       "57  Stevenage, England  \n",
       "59  Stevenage, England  \n",
       "61  Stevenage, England  \n",
       "62  Stevenage, England  \n",
       "63  Stevenage, England  \n",
       "64  Stevenage, England  \n",
       "65  Stevenage, England  \n",
       "\n",
       "[11 rows x 22 columns]"
      ]
     },
     "execution_count": 15,
     "metadata": {},
     "output_type": "execute_result"
    }
   ],
   "source": [
    "merged_data = pd.merge(race_results, drivers, on='Driver')\n",
    "\n",
    "# merged_data\n",
    "\n",
    "# Sort the merged data based on the 'Position' column in descending order\n",
    "sorted_data = merged_data.sort_values('Position', ascending=False)\n",
    "\n",
    "# sorted_data\n",
    "\n",
    "first_pos = sorted_data.loc[sorted_data['Position'] == '1']\n",
    "first_pos_grp = first_pos.groupby(['No'])\n",
    "first_pos_grp.get_group(44)\n",
    "\n",
    "# # Extract the driver with the highest race finish\n",
    "# driver_highest_race_finish = sorted_data.loc[0]['Driver']\n",
    "\n",
    "# # Print the result\n",
    "# print(\"Driver with the highest race finish:\", driver_highest_race_finish)\n"
   ]
  },
  {
   "cell_type": "markdown",
   "id": "2a390798",
   "metadata": {},
   "source": [
    "### 7. Which driver has the highest grid position achieved (in 2020)?\n"
   ]
  },
  {
   "cell_type": "code",
   "execution_count": null,
   "id": "f2809e16",
   "metadata": {},
   "outputs": [],
   "source": []
  },
  {
   "cell_type": "markdown",
   "id": "b62fea54",
   "metadata": {},
   "source": [
    "### 8. How many drivers were born in a specific country (e.g., Germany, Brazil)?\n"
   ]
  },
  {
   "cell_type": "code",
   "execution_count": 16,
   "id": "ad3ca966",
   "metadata": {},
   "outputs": [
    {
     "data": {
      "text/plain": [
       "array(['Stevenage, England', 'Nastola, Finland', 'Hasselt, Belgium',\n",
       "       'Guadalajara, Mexico', 'Perth, Australia', 'Madrid, Spain',\n",
       "       'London, England', 'Monte Carlo, Monaco', 'Bristol, England',\n",
       "       'Rouen, France', 'Montreal, Canada', 'Evreux, Normandy',\n",
       "       'Heppenheim, Germany', 'Ufa, Russia', 'Emmerich am Rhein, Germany',\n",
       "       'Espoo, Finland', 'Martina France, Italy', \"King's Lynn, England\",\n",
       "       'Geneva, Switzerland', 'Roskilde, Denmark', 'nan'], dtype=object)"
      ]
     },
     "execution_count": 16,
     "metadata": {},
     "output_type": "execute_result"
    }
   ],
   "source": [
    "drivers['Place of Birth'] = drivers['Place of Birth'].astype(str)\n",
    "drivers['Place of Birth'].unique()"
   ]
  },
  {
   "cell_type": "code",
   "execution_count": 17,
   "id": "845416f6",
   "metadata": {},
   "outputs": [],
   "source": [
    "# drivers['Birth Country'] = drivers['Place of Birth'].str.split(',')\n",
    "\n",
    "# drivers['Place of Birth'].value_counts()\n",
    "\n",
    "def get_country(place):\n",
    "    return place.split(',')[-1]\n",
    "\n",
    "drivers['Birth Country'] = drivers['Place of Birth'].apply(lambda x : get_country(x))\n"
   ]
  },
  {
   "cell_type": "code",
   "execution_count": 18,
   "id": "72050b2a",
   "metadata": {},
   "outputs": [
    {
     "data": {
      "text/plain": [
       "Birth Country\n",
       " England        4\n",
       " Finland        2\n",
       " Canada         2\n",
       " Germany        2\n",
       "nan             2\n",
       " Belgium        1\n",
       " Mexico         1\n",
       " Australia      1\n",
       " Spain          1\n",
       " Monaco         1\n",
       " France         1\n",
       " Normandy       1\n",
       " Russia         1\n",
       " Italy          1\n",
       " Switzerland    1\n",
       " Denmark        1\n",
       "Name: count, dtype: int64"
      ]
     },
     "execution_count": 18,
     "metadata": {},
     "output_type": "execute_result"
    }
   ],
   "source": [
    "drivers['Birth Country'].value_counts()"
   ]
  },
  {
   "cell_type": "markdown",
   "id": "816ec52d",
   "metadata": {},
   "source": [
    "### 9. What is the distribution of driver ages based on their date of birth?\n"
   ]
  },
  {
   "cell_type": "code",
   "execution_count": 19,
   "id": "e33c3402",
   "metadata": {},
   "outputs": [],
   "source": [
    "drivers = drivers.dropna()"
   ]
  },
  {
   "cell_type": "code",
   "execution_count": 20,
   "id": "ea93c1a0",
   "metadata": {},
   "outputs": [],
   "source": [
    "drivers['Date of Birth'] = pd.to_datetime(drivers['Date of Birth'], format='%d/%m/%Y')"
   ]
  },
  {
   "cell_type": "code",
   "execution_count": 21,
   "id": "74fca4bc",
   "metadata": {},
   "outputs": [],
   "source": [
    "drivers['Age'] = datetime.datetime.now().year - drivers['Date of Birth'].dt.year"
   ]
  },
  {
   "cell_type": "code",
   "execution_count": 22,
   "id": "6ee7a936",
   "metadata": {},
   "outputs": [
    {
     "data": {
      "image/png": "[encoded data removed]",
      "text/plain": [
       "<Figure size 640x480 with 1 Axes>"
      ]
     },
     "metadata": {},
     "output_type": "display_data"
    }
   ],
   "source": [
    "plt.hist(drivers['Age'], bins=10)\n",
    "plt.xlabel('Age')\n",
    "plt.ylabel('Number of Drivers')\n",
    "plt.title('Distribution of Driver Ages')\n",
    "plt.show()"
   ]
  },
  {
   "cell_type": "markdown",
   "id": "94809713",
   "metadata": {},
   "source": [
    "### 10. Which team has the most drivers in the 'Drivers' dataset?"
   ]
  },
  {
   "cell_type": "code",
   "execution_count": 23,
   "id": "d0559cf1",
   "metadata": {},
   "outputs": [
    {
     "name": "stdout",
     "output_type": "stream",
     "text": [
      "Team with most drivers : Racing Point\n"
     ]
    }
   ],
   "source": [
    "team_counts = drivers['Team'].value_counts()\n",
    "max_drivers = team_counts.idxmax()\n",
    "print(f\"Team with most drivers : {max_drivers}\")"
   ]
  },
  {
   "cell_type": "markdown",
   "id": "da5109d8",
   "metadata": {},
   "source": [
    "### Q11: Which driver has the most podium finishes in the 'Race Results' dataset?"
   ]
  },
  {
   "cell_type": "markdown",
   "id": "c44d9dc1",
   "metadata": {},
   "source": [
    "First, we need to convert the Position values from string to integer. "
   ]
  },
  {
   "cell_type": "code",
   "execution_count": 24,
   "id": "e8ba9ba9",
   "metadata": {},
   "outputs": [
    {
     "data": {
      "text/plain": [
       "array(['1', '2', '3', '4', '5', '6', '7', '8', '9', '10', '11', '12',\n",
       "       '13', 'NC', '14', '15', '16', '17', '18', '19'], dtype=object)"
      ]
     },
     "execution_count": 24,
     "metadata": {},
     "output_type": "execute_result"
    }
   ],
   "source": [
    "race_results['Position'].unique()"
   ]
  },
  {
   "cell_type": "code",
   "execution_count": 25,
   "id": "54563cea",
   "metadata": {},
   "outputs": [],
   "source": [
    "def convert(x):\n",
    "    if x=='NC':\n",
    "        return -1\n",
    "    else :\n",
    "        return int(x)\n",
    "\n",
    "\n",
    "race_results['Position'] = race_results['Position'].apply(lambda x : convert(x))"
   ]
  },
  {
   "cell_type": "code",
   "execution_count": 26,
   "id": "c87cdad0",
   "metadata": {},
   "outputs": [
    {
     "name": "stdout",
     "output_type": "stream",
     "text": [
      "Driver with the most podium finishes: Max Verstappen\n",
      "Number of podium finishes: 16\n"
     ]
    }
   ],
   "source": [
    "podium_counts = race_results[race_results['Position'] <= 3]['Driver'].value_counts()\n",
    "\n",
    "driver_with_most_podiums = podium_counts.idxmax()\n",
    "\n",
    "most_podiums_count = podium_counts.max()\n",
    "\n",
    "print(\"Driver with the most podium finishes:\", driver_with_most_podiums)\n",
    "print(\"Number of podium finishes:\", most_podiums_count)"
   ]
  },
  {
   "cell_type": "code",
   "execution_count": 27,
   "id": "b2d00c04",
   "metadata": {},
   "outputs": [
    {
     "data": {
      "image/png": "[encoded data removed]",
      "text/plain": [
       "<Figure size 640x480 with 1 Axes>"
      ]
     },
     "metadata": {},
     "output_type": "display_data"
    }
   ],
   "source": [
    "podium_counts = podium_counts.sort_values(ascending=True)\n",
    "\n",
    "podium_counts.plot(kind='barh')\n",
    "plt.ylabel('Driver')\n",
    "plt.xlabel('Podium Counts')\n",
    "plt.title('Number of Podium Finishes by Driver')\n",
    "# plt.xticks(rotation=90)\n",
    "plt.show()"
   ]
  },
  {
   "cell_type": "markdown",
   "id": "2ad7b57b",
   "metadata": {},
   "source": [
    "### 12. How many drivers have retired during a race?"
   ]
  },
  {
   "cell_type": "code",
   "execution_count": 28,
   "id": "6a451736",
   "metadata": {},
   "outputs": [
    {
     "data": {
      "text/plain": [
       "55"
      ]
     },
     "execution_count": 28,
     "metadata": {},
     "output_type": "execute_result"
    }
   ],
   "source": [
    "race_results['Total Time/Gap/Retirement'].value_counts()['DNF']"
   ]
  },
  {
   "cell_type": "code",
   "execution_count": 29,
   "id": "8c092892",
   "metadata": {},
   "outputs": [
    {
     "data": {
      "text/plain": [
       "array(['70th Anniversary', 'Abu Dhabi', 'Austria', 'Bahrain', 'Belgium',\n",
       "       'Eifel', 'Emilia Romagna', 'Great Britain', 'Hungary', 'Italy',\n",
       "       'Portugal', 'Russia', 'Sakhir', 'Spain', 'Styria', 'Turkey',\n",
       "       'Tuscany'], dtype=object)"
      ]
     },
     "execution_count": 29,
     "metadata": {},
     "output_type": "execute_result"
    }
   ],
   "source": [
    "tracks = race_results['Track'].unique()\n",
    "tracks.sort()\n",
    "tracks"
   ]
  },
  {
   "cell_type": "code",
   "execution_count": 30,
   "id": "5f68e2c2",
   "metadata": {},
   "outputs": [
    {
     "name": "stdout",
     "output_type": "stream",
     "text": [
      "['70th Anniversary' 'Abu Dhabi' 'Austria' 'Bahrain' 'Belgium' 'Eifel'\n",
      " 'Emilia Romagna' 'Great Britain' 'Hungary' 'Italy' 'Portugal' 'Russia'\n",
      " 'Sakhir' 'Spain' 'Styria' 'Turkey' 'Tuscany']\n"
     ]
    },
    {
     "data": {
      "text/plain": [
       "[1, 1, 9, 3, 2, 5, 5, 2, 1, 4, 1, 2, 3, 1, 3, 4, 8]"
      ]
     },
     "execution_count": 30,
     "metadata": {},
     "output_type": "execute_result"
    }
   ],
   "source": [
    "Retired_drivers_count = []\n",
    "\n",
    "def Get_num_retired_drivers(track):\n",
    "    filt = (race_results['Track'] == track) & (race_results['Total Time/Gap/Retirement'] == 'DNF')\n",
    "    dnf_drivers = race_results.loc[filt]\n",
    "    count = dnf_drivers.shape[0]\n",
    "    Retired_drivers_count.append(count)\n",
    "    \n",
    "    \n",
    "for track in tracks:\n",
    "    Get_num_retired_drivers(track)\n",
    "    \n",
    "\n",
    "print(tracks)\n",
    "Retired_drivers_count"
   ]
  },
  {
   "cell_type": "code",
   "execution_count": 31,
   "id": "bd531050",
   "metadata": {},
   "outputs": [
    {
     "data": {
      "text/plain": [
       "Text(0, 0.5, 'Track')"
      ]
     },
     "execution_count": 31,
     "metadata": {},
     "output_type": "execute_result"
    },
    {
     "data": {
      "image/png": "[encoded data removed]",
      "text/plain": [
       "<Figure size 640x480 with 1 Axes>"
      ]
     },
     "metadata": {},
     "output_type": "display_data"
    }
   ],
   "source": [
    "plt.barh(tracks, Retired_drivers_count)\n",
    "plt.xlabel('Drivers Retired')\n",
    "plt.ylabel('Track')"
   ]
  },
  {
   "cell_type": "markdown",
   "id": "fd454e85",
   "metadata": {},
   "source": [
    "### 13. What is the average number of laps completed per race?"
   ]
  },
  {
   "cell_type": "code",
   "execution_count": 32,
   "id": "5aecc470",
   "metadata": {},
   "outputs": [
    {
     "name": "stdout",
     "output_type": "stream",
     "text": [
      "The average number of laps for all races :  61.0\n"
     ]
    }
   ],
   "source": [
    "laps = []\n",
    "\n",
    "def get_laps(x):\n",
    "    x_laps = race_results[race_results['Track'] == x]['Laps'].max()\n",
    "    laps.append(x_laps)\n",
    "\n",
    "for track in tracks:\n",
    "    get_laps(track)\n",
    "\n",
    "total_laps = sum(laps)\n",
    "num_tracks = len(tracks)\n",
    "avg = total_laps/num_tracks\n",
    "\n",
    "print('The average number of laps for all races : ', avg)"
   ]
  },
  {
   "cell_type": "markdown",
   "id": "01003cc7",
   "metadata": {},
   "source": [
    "### 14. Which driver has the most fastest laps recorded?"
   ]
  },
  {
   "cell_type": "code",
   "execution_count": 33,
   "id": "1d8508ab",
   "metadata": {},
   "outputs": [
    {
     "name": "stdout",
     "output_type": "stream",
     "text": [
      "Driver with most fastest laps :  Lewis Hamilton -> 6\n"
     ]
    }
   ],
   "source": [
    "fastest_laps = race_results[race_results['Fastest Lap']=='Yes']['Driver'].value_counts()\n",
    "\n",
    "driver_with_most_fastest_laps = fastest_laps.idxmax()\n",
    "num_of_fastest_laps = fastest_laps.max()\n",
    "\n",
    "print('Driver with most fastest laps : ', driver_with_most_fastest_laps, '->', num_of_fastest_laps)"
   ]
  },
  {
   "cell_type": "markdown",
   "id": "6ef80ec3",
   "metadata": {},
   "source": [
    "### 15 : What is the total number of points scored by each team in the 2020 F1 season?"
   ]
  },
  {
   "cell_type": "code",
   "execution_count": 34,
   "id": "ca4be470",
   "metadata": {},
   "outputs": [],
   "source": [
    "teams = race_results['Team'].unique()\n",
    "points = []"
   ]
  },
  {
   "cell_type": "code",
   "execution_count": 35,
   "id": "3b376d78",
   "metadata": {},
   "outputs": [],
   "source": [
    "constructors = pd.DataFrame()\n",
    "constructors['Team'] = teams"
   ]
  },
  {
   "cell_type": "code",
   "execution_count": 36,
   "id": "602c8bf1",
   "metadata": {},
   "outputs": [
    {
     "data": {
      "text/html": [
       "<div>\n",
       "<style scoped>\n",
       "    .dataframe tbody tr th:only-of-type {\n",
       "        vertical-align: middle;\n",
       "    }\n",
       "\n",
       "    .dataframe tbody tr th {\n",
       "        vertical-align: top;\n",
       "    }\n",
       "\n",
       "    .dataframe thead th {\n",
       "        text-align: right;\n",
       "    }\n",
       "</style>\n",
       "<table border=\"1\" class=\"dataframe\">\n",
       "  <thead>\n",
       "    <tr style=\"text-align: right;\">\n",
       "      <th></th>\n",
       "      <th>Team</th>\n",
       "    </tr>\n",
       "  </thead>\n",
       "  <tbody>\n",
       "    <tr>\n",
       "      <th>0</th>\n",
       "      <td>Mercedes</td>\n",
       "    </tr>\n",
       "    <tr>\n",
       "      <th>1</th>\n",
       "      <td>Ferrari</td>\n",
       "    </tr>\n",
       "    <tr>\n",
       "      <th>2</th>\n",
       "      <td>McLaren Renault</td>\n",
       "    </tr>\n",
       "    <tr>\n",
       "      <th>3</th>\n",
       "      <td>Racing Point BWT Mercedes</td>\n",
       "    </tr>\n",
       "    <tr>\n",
       "      <th>4</th>\n",
       "      <td>AlphaTauri Honda</td>\n",
       "    </tr>\n",
       "    <tr>\n",
       "      <th>5</th>\n",
       "      <td>Renault</td>\n",
       "    </tr>\n",
       "    <tr>\n",
       "      <th>6</th>\n",
       "      <td>Alfa Romeo Racing Ferrari</td>\n",
       "    </tr>\n",
       "    <tr>\n",
       "      <th>7</th>\n",
       "      <td>Williams Mercedes</td>\n",
       "    </tr>\n",
       "    <tr>\n",
       "      <th>8</th>\n",
       "      <td>Red Bull Racing Honda</td>\n",
       "    </tr>\n",
       "    <tr>\n",
       "      <th>9</th>\n",
       "      <td>Haas Ferrari</td>\n",
       "    </tr>\n",
       "  </tbody>\n",
       "</table>\n",
       "</div>"
      ],
      "text/plain": [
       "                        Team\n",
       "0                   Mercedes\n",
       "1                    Ferrari\n",
       "2            McLaren Renault\n",
       "3  Racing Point BWT Mercedes\n",
       "4           AlphaTauri Honda\n",
       "5                    Renault\n",
       "6  Alfa Romeo Racing Ferrari\n",
       "7          Williams Mercedes\n",
       "8      Red Bull Racing Honda\n",
       "9               Haas Ferrari"
      ]
     },
     "execution_count": 36,
     "metadata": {},
     "output_type": "execute_result"
    }
   ],
   "source": [
    "constructors"
   ]
  },
  {
   "cell_type": "code",
   "execution_count": 37,
   "id": "e2c3384d",
   "metadata": {},
   "outputs": [
    {
     "data": {
      "text/plain": [
       "[573, 131, 202, 210, 107, 181, 8, 0, 319, 3]"
      ]
     },
     "execution_count": 37,
     "metadata": {},
     "output_type": "execute_result"
    }
   ],
   "source": [
    "points = []\n",
    "\n",
    "def calculate_points(x):\n",
    "#     filt = race_results\n",
    "    team_points = race_results[race_results['Team'] == x]['Points'].sum()\n",
    "    points.append(team_points)\n",
    "    \n",
    "for team in teams:\n",
    "    calculate_points(team)\n",
    "    \n",
    "points"
   ]
  },
  {
   "cell_type": "code",
   "execution_count": 38,
   "id": "25ce309f",
   "metadata": {},
   "outputs": [],
   "source": [
    "constructors['Points'] = points"
   ]
  },
  {
   "cell_type": "code",
   "execution_count": 39,
   "id": "1ad16cad",
   "metadata": {},
   "outputs": [],
   "source": [
    "constructors.sort_values(by='Points', inplace=True, ascending=False)\n",
    "constructors.reset_index(inplace=True)"
   ]
  },
  {
   "cell_type": "code",
   "execution_count": 40,
   "id": "d08d8de6",
   "metadata": {},
   "outputs": [],
   "source": [
    "constructors.drop(columns=['index'], inplace=True)"
   ]
  },
  {
   "cell_type": "code",
   "execution_count": 41,
   "id": "d894f21a",
   "metadata": {},
   "outputs": [
    {
     "data": {
      "text/html": [
       "<div>\n",
       "<style scoped>\n",
       "    .dataframe tbody tr th:only-of-type {\n",
       "        vertical-align: middle;\n",
       "    }\n",
       "\n",
       "    .dataframe tbody tr th {\n",
       "        vertical-align: top;\n",
       "    }\n",
       "\n",
       "    .dataframe thead th {\n",
       "        text-align: right;\n",
       "    }\n",
       "</style>\n",
       "<table border=\"1\" class=\"dataframe\">\n",
       "  <thead>\n",
       "    <tr style=\"text-align: right;\">\n",
       "      <th></th>\n",
       "      <th>Team</th>\n",
       "      <th>Points</th>\n",
       "    </tr>\n",
       "  </thead>\n",
       "  <tbody>\n",
       "    <tr>\n",
       "      <th>0</th>\n",
       "      <td>Mercedes</td>\n",
       "      <td>573</td>\n",
       "    </tr>\n",
       "    <tr>\n",
       "      <th>1</th>\n",
       "      <td>Red Bull Racing Honda</td>\n",
       "      <td>319</td>\n",
       "    </tr>\n",
       "    <tr>\n",
       "      <th>2</th>\n",
       "      <td>Racing Point BWT Mercedes</td>\n",
       "      <td>210</td>\n",
       "    </tr>\n",
       "    <tr>\n",
       "      <th>3</th>\n",
       "      <td>McLaren Renault</td>\n",
       "      <td>202</td>\n",
       "    </tr>\n",
       "    <tr>\n",
       "      <th>4</th>\n",
       "      <td>Renault</td>\n",
       "      <td>181</td>\n",
       "    </tr>\n",
       "    <tr>\n",
       "      <th>5</th>\n",
       "      <td>Ferrari</td>\n",
       "      <td>131</td>\n",
       "    </tr>\n",
       "    <tr>\n",
       "      <th>6</th>\n",
       "      <td>AlphaTauri Honda</td>\n",
       "      <td>107</td>\n",
       "    </tr>\n",
       "    <tr>\n",
       "      <th>7</th>\n",
       "      <td>Alfa Romeo Racing Ferrari</td>\n",
       "      <td>8</td>\n",
       "    </tr>\n",
       "    <tr>\n",
       "      <th>8</th>\n",
       "      <td>Haas Ferrari</td>\n",
       "      <td>3</td>\n",
       "    </tr>\n",
       "    <tr>\n",
       "      <th>9</th>\n",
       "      <td>Williams Mercedes</td>\n",
       "      <td>0</td>\n",
       "    </tr>\n",
       "  </tbody>\n",
       "</table>\n",
       "</div>"
      ],
      "text/plain": [
       "                        Team  Points\n",
       "0                   Mercedes     573\n",
       "1      Red Bull Racing Honda     319\n",
       "2  Racing Point BWT Mercedes     210\n",
       "3            McLaren Renault     202\n",
       "4                    Renault     181\n",
       "5                    Ferrari     131\n",
       "6           AlphaTauri Honda     107\n",
       "7  Alfa Romeo Racing Ferrari       8\n",
       "8               Haas Ferrari       3\n",
       "9          Williams Mercedes       0"
      ]
     },
     "execution_count": 41,
     "metadata": {},
     "output_type": "execute_result"
    }
   ],
   "source": [
    "constructors"
   ]
  },
  {
   "cell_type": "code",
   "execution_count": 42,
   "id": "ec6dd294",
   "metadata": {},
   "outputs": [
    {
     "data": {
      "image/png": "[encoded data removed]",
      "text/plain": [
       "<Figure size 640x480 with 1 Axes>"
      ]
     },
     "metadata": {},
     "output_type": "display_data"
    }
   ],
   "source": [
    "plt.barh(constructors['Team'], constructors['Points'])\n",
    "plt.xlabel('Points')\n",
    "plt.ylabel('Team')\n",
    "plt.gca().invert_yaxis()\n",
    "plt.show()"
   ]
  },
  {
   "cell_type": "code",
   "execution_count": null,
   "id": "e0c80a8f",
   "metadata": {},
   "outputs": [],
   "source": []
  }
 ],
 "metadata": {
  "kernelspec": {
   "display_name": "Python 3 (ipykernel)",
   "language": "python",
   "name": "python3"
  },
  "language_info": {
   "codemirror_mode": {
    "name": "ipython",
    "version": 3
   },
   "file_extension": ".py",
   "mimetype": "text/x-python",
   "name": "python",
   "nbconvert_exporter": "python",
   "pygments_lexer": "ipython3",
   "version": "3.10.5"
  }
 },
 "nbformat": 4,
 "nbformat_minor": 5
}
